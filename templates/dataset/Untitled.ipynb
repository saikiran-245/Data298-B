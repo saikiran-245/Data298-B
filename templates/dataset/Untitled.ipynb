{
 "cells": [
  {
   "cell_type": "code",
   "execution_count": 1,
   "metadata": {},
   "outputs": [],
   "source": [
    "import pandas as pd\n"
   ]
  },
  {
   "cell_type": "code",
   "execution_count": 2,
   "metadata": {},
   "outputs": [],
   "source": [
    "df = pd.read_csv(\"web_ev_stations_present.csv\")"
   ]
  },
  {
   "cell_type": "code",
   "execution_count": 3,
   "metadata": {},
   "outputs": [
    {
     "name": "stdout",
     "output_type": "stream",
     "text": [
      "<class 'pandas.core.frame.DataFrame'>\n",
      "RangeIndex: 13937 entries, 0 to 13936\n",
      "Data columns (total 19 columns):\n",
      " #   Column                   Non-Null Count  Dtype  \n",
      "---  ------                   --------------  -----  \n",
      " 0   Station Name             13937 non-null  object \n",
      " 1   Street Address           13937 non-null  object \n",
      " 2   City                     13937 non-null  object \n",
      " 3   ZIP                      13937 non-null  object \n",
      " 4   Station Phone            13821 non-null  object \n",
      " 5   Groups With Access Code  13937 non-null  object \n",
      " 6   Access Days Time         12767 non-null  object \n",
      " 7   EV Level1 EVSE Num       41 non-null     float64\n",
      " 8   EV Level2 EVSE Num       12465 non-null  float64\n",
      " 9   EV DC Fast Count         1755 non-null   float64\n",
      " 10  EV Other Info            26 non-null     object \n",
      " 11  EV Network               13937 non-null  object \n",
      " 12  Geocode Status           13937 non-null  object \n",
      " 13  Latitude                 13937 non-null  float64\n",
      " 14  Longitude                13937 non-null  float64\n",
      " 15  Open Date                13935 non-null  object \n",
      " 16  EV Connector Types       13924 non-null  object \n",
      " 17  Facility Type            2060 non-null   object \n",
      " 18  EV Pricing               2260 non-null   object \n",
      "dtypes: float64(5), object(14)\n",
      "memory usage: 2.0+ MB\n"
     ]
    }
   ],
   "source": [
    "df.info()"
   ]
  },
  {
   "cell_type": "code",
   "execution_count": null,
   "metadata": {},
   "outputs": [],
   "source": []
  }
 ],
 "metadata": {
  "kernelspec": {
   "display_name": "Python 3",
   "language": "python",
   "name": "python3"
  },
  "language_info": {
   "codemirror_mode": {
    "name": "ipython",
    "version": 3
   },
   "file_extension": ".py",
   "mimetype": "text/x-python",
   "name": "python",
   "nbconvert_exporter": "python",
   "pygments_lexer": "ipython3",
   "version": "3.7.6"
  }
 },
 "nbformat": 4,
 "nbformat_minor": 4
}
